{
  "nbformat": 4,
  "nbformat_minor": 0,
  "metadata": {
    "colab": {
      "provenance": []
    },
    "kernelspec": {
      "name": "python3",
      "display_name": "Python 3"
    },
    "language_info": {
      "name": "python"
    },
    "accelerator": "GPU",
    "gpuClass": "standard"
  },
  "cells": [
    {
      "cell_type": "code",
      "execution_count": null,
      "metadata": {
        "colab": {
          "base_uri": "https://localhost:8080/"
        },
        "id": "wpIDvkBbADmd",
        "outputId": "b9097cec-a8af-4c01-85a4-9afe030392b2"
      },
      "outputs": [
        {
          "output_type": "stream",
          "name": "stdout",
          "text": [
            "\u001b[2K     \u001b[90m━━━━━━━━━━━━━━━━━━━━━━━━━━━━━━━━━━━━━━\u001b[0m \u001b[32m169.6/169.6 KB\u001b[0m \u001b[31m12.4 MB/s\u001b[0m eta \u001b[36m0:00:00\u001b[0m\n",
            "\u001b[2K     \u001b[90m━━━━━━━━━━━━━━━━━━━━━━━━━━━━━━━━━━━━━━━━\u001b[0m \u001b[32m1.6/1.6 MB\u001b[0m \u001b[31m32.3 MB/s\u001b[0m eta \u001b[36m0:00:00\u001b[0m\n",
            "\u001b[?25h"
          ]
        }
      ],
      "source": [
        "!pip install keras-tuner -q"
      ]
    },
    {
      "cell_type": "code",
      "source": [
        "!pip install tensorflow_io"
      ],
      "metadata": {
        "colab": {
          "base_uri": "https://localhost:8080/"
        },
        "id": "HTgOB9IdANW2",
        "outputId": "32ac602b-0295-4281-a2ce-d4dd257ab023"
      },
      "execution_count": null,
      "outputs": [
        {
          "output_type": "stream",
          "name": "stdout",
          "text": [
            "Looking in indexes: https://pypi.org/simple, https://us-python.pkg.dev/colab-wheels/public/simple/\n",
            "Collecting tensorflow_io\n",
            "  Downloading tensorflow_io-0.30.0-cp38-cp38-manylinux_2_12_x86_64.manylinux2010_x86_64.whl (26.9 MB)\n",
            "\u001b[2K     \u001b[90m━━━━━━━━━━━━━━━━━━━━━━━━━━━━━━━━━━━━━━━━\u001b[0m \u001b[32m26.9/26.9 MB\u001b[0m \u001b[31m48.1 MB/s\u001b[0m eta \u001b[36m0:00:00\u001b[0m\n",
            "\u001b[?25hRequirement already satisfied: tensorflow-io-gcs-filesystem==0.30.0 in /usr/local/lib/python3.8/dist-packages (from tensorflow_io) (0.30.0)\n",
            "Installing collected packages: tensorflow_io\n",
            "Successfully installed tensorflow_io-0.30.0\n"
          ]
        }
      ]
    },
    {
      "cell_type": "code",
      "source": [
        "! pip install split-folders"
      ],
      "metadata": {
        "colab": {
          "base_uri": "https://localhost:8080/"
        },
        "id": "r4rh3AMeITSs",
        "outputId": "adfae59a-fe15-4250-d7a6-dd279df9e14c"
      },
      "execution_count": null,
      "outputs": [
        {
          "output_type": "stream",
          "name": "stdout",
          "text": [
            "Looking in indexes: https://pypi.org/simple, https://us-python.pkg.dev/colab-wheels/public/simple/\n",
            "Collecting split-folders\n",
            "  Downloading split_folders-0.5.1-py3-none-any.whl (8.4 kB)\n",
            "Installing collected packages: split-folders\n",
            "Successfully installed split-folders-0.5.1\n"
          ]
        }
      ]
    },
    {
      "cell_type": "code",
      "source": [
        "!gdown 1KR_7-SMuvH0rLmZawqoIZYm6V1mVjHrA"
      ],
      "metadata": {
        "colab": {
          "base_uri": "https://localhost:8080/"
        },
        "id": "i4V0p_VqkuDS",
        "outputId": "f83fd8be-6d92-4391-d21b-a1737bdd1913"
      },
      "execution_count": null,
      "outputs": [
        {
          "output_type": "stream",
          "name": "stdout",
          "text": [
            "Access denied with the following error:\n",
            "\n",
            " \tToo many users have viewed or downloaded this file recently. Please\n",
            "\ttry accessing the file again later. If the file you are trying to\n",
            "\taccess is particularly large or is shared with many people, it may\n",
            "\ttake up to 24 hours to be able to view or download the file. If you\n",
            "\tstill can't access a file after 24 hours, contact your domain\n",
            "\tadministrator. \n",
            "\n",
            "You may still be able to access the file from the browser:\n",
            "\n",
            "\t https://drive.google.com/uc?id=1KR_7-SMuvH0rLmZawqoIZYm6V1mVjHrA \n",
            "\n"
          ]
        }
      ]
    },
    {
      "cell_type": "code",
      "source": [
        "!pip install -U gdown"
      ],
      "metadata": {
        "colab": {
          "base_uri": "https://localhost:8080/"
        },
        "id": "_btBz9spkeuz",
        "outputId": "7ac22041-0f6f-4a75-f6c8-f4f89d850ec8"
      },
      "execution_count": null,
      "outputs": [
        {
          "output_type": "stream",
          "name": "stdout",
          "text": [
            "Looking in indexes: https://pypi.org/simple, https://us-python.pkg.dev/colab-wheels/public/simple/\n",
            "Requirement already satisfied: gdown in /usr/local/lib/python3.8/dist-packages (4.4.0)\n",
            "Collecting gdown\n",
            "  Downloading gdown-4.6.2-py3-none-any.whl (14 kB)\n",
            "Requirement already satisfied: beautifulsoup4 in /usr/local/lib/python3.8/dist-packages (from gdown) (4.6.3)\n",
            "Requirement already satisfied: requests[socks] in /usr/local/lib/python3.8/dist-packages (from gdown) (2.25.1)\n",
            "Requirement already satisfied: tqdm in /usr/local/lib/python3.8/dist-packages (from gdown) (4.64.1)\n",
            "Requirement already satisfied: filelock in /usr/local/lib/python3.8/dist-packages (from gdown) (3.9.0)\n",
            "Requirement already satisfied: six in /usr/local/lib/python3.8/dist-packages (from gdown) (1.15.0)\n",
            "Requirement already satisfied: urllib3<1.27,>=1.21.1 in /usr/local/lib/python3.8/dist-packages (from requests[socks]->gdown) (1.24.3)\n",
            "Requirement already satisfied: certifi>=2017.4.17 in /usr/local/lib/python3.8/dist-packages (from requests[socks]->gdown) (2022.12.7)\n",
            "Requirement already satisfied: chardet<5,>=3.0.2 in /usr/local/lib/python3.8/dist-packages (from requests[socks]->gdown) (4.0.0)\n",
            "Requirement already satisfied: idna<3,>=2.5 in /usr/local/lib/python3.8/dist-packages (from requests[socks]->gdown) (2.10)\n",
            "Requirement already satisfied: PySocks!=1.5.7,>=1.5.6 in /usr/local/lib/python3.8/dist-packages (from requests[socks]->gdown) (1.7.1)\n",
            "Installing collected packages: gdown\n",
            "  Attempting uninstall: gdown\n",
            "    Found existing installation: gdown 4.4.0\n",
            "    Uninstalling gdown-4.4.0:\n",
            "      Successfully uninstalled gdown-4.4.0\n",
            "Successfully installed gdown-4.6.2\n"
          ]
        }
      ]
    },
    {
      "cell_type": "code",
      "source": [
        "import cv2\n",
        "import glob\n",
        "import matplotlib.pyplot as plt\n",
        "import imutils\n",
        "import numpy as np\n",
        "from sklearn.model_selection import train_test_split\n",
        "from sklearn.svm import SVC\n",
        "from sklearn.preprocessing import StandardScaler\n",
        "from sklearn.metrics import accuracy_score, classification_report\n",
        "from sklearn.metrics import confusion_matrix\n",
        "from sklearn.decomposition import PCA, KernelPCA\n",
        "from sklearn.ensemble import RandomForestClassifier\n",
        "import tensorflow as tf\n",
        "from tensorflow import keras\n",
        "from tensorflow.keras import layers\n",
        "import tensorflow_io as tfio\n",
        "import keras_tuner as kt\n",
        "import os\n",
        "import shutil"
      ],
      "metadata": {
        "id": "WSsAWLBdBevB"
      },
      "execution_count": null,
      "outputs": []
    },
    {
      "cell_type": "code",
      "source": [
        "from google.colab import drive\n",
        "drive.mount('/content/drive')"
      ],
      "metadata": {
        "colab": {
          "base_uri": "https://localhost:8080/"
        },
        "id": "AVuPvQfOBlqg",
        "outputId": "f8308988-24ff-408f-9d1e-e91a23a2730b"
      },
      "execution_count": null,
      "outputs": [
        {
          "output_type": "stream",
          "name": "stdout",
          "text": [
            "Drive already mounted at /content/drive; to attempt to forcibly remount, call drive.mount(\"/content/drive\", force_remount=True).\n"
          ]
        }
      ]
    },
    {
      "cell_type": "code",
      "source": [
        "!unzip /content/drive/MyDrive/Datasets/data.zip > /dev/null"
      ],
      "metadata": {
        "id": "dj4ShCXVKPel"
      },
      "execution_count": null,
      "outputs": []
    },
    {
      "cell_type": "code",
      "source": [
        "dir_cataract ='/content/Untitled Folder/cataract'\n",
        "dir_normal ='/content/Untitled Folder/normal'\n",
        "if not os.path.isdir(dir_cataract):\n",
        "  os.makedirs(dir_cataract)\n",
        "if not os.path.isdir(dir_normal):\n",
        "  os.makedirs(dir_normal)\n",
        "for root, dirs, files in os.walk((os.path.normpath('/content/data/')), topdown=False):\n",
        "    for name in files:\n",
        "        SourceFolder = os.path.join(root,name)\n",
        "        if \"normal\" in name:\n",
        "            shutil.move(SourceFolder, dir_normal)\n",
        "        elif \"cataract\" in name :\n",
        "            shutil.move(SourceFolder, dir_cataract)"
      ],
      "metadata": {
        "id": "JzZi3pUyKn0Y"
      },
      "execution_count": null,
      "outputs": []
    },
    {
      "cell_type": "code",
      "source": [
        "img = tf.keras.preprocessing.image.load_img('/content/data/cataract_100.jpg')\n",
        "img"
      ],
      "metadata": {
        "colab": {
          "base_uri": "https://localhost:8080/",
          "height": 273
        },
        "id": "mYqXSmhRNChH",
        "outputId": "ac2b4964-c0f0-4562-a762-74544dd8d4fd"
      },
      "execution_count": null,
      "outputs": [
        {
          "output_type": "execute_result",
          "data": {
            "text/plain": [
              "<PIL.JpegImagePlugin.JpegImageFile image mode=RGB size=256x256 at 0x7F7F3AB51B80>"
            ],
            "image/png": "[encoded data removed]"
          },
          "metadata": {},
          "execution_count": 7
        }
      ]
    },
    {
      "cell_type": "code",
      "source": [
        "img_height = 256\n",
        "img_width = 256"
      ],
      "metadata": {
        "id": "HO52H2cmOv7a"
      },
      "execution_count": null,
      "outputs": []
    },
    {
      "cell_type": "code",
      "source": [
        "from tensorflow.keras.preprocessing import image_dataset_from_directory\n",
        "train_ds = image_dataset_from_directory('/content/Untitled Folder', \n",
        "                                        seed = 7, \n",
        "                                        image_size=(img_height, img_width), \n",
        "                                        validation_split=0.2, \n",
        "                                        subset='training')"
      ],
      "metadata": {
        "colab": {
          "base_uri": "https://localhost:8080/"
        },
        "id": "efVs9As-P2W9",
        "outputId": "a3cddbd8-0c49-42b4-c5c9-584a06005985"
      },
      "execution_count": null,
      "outputs": [
        {
          "output_type": "stream",
          "name": "stdout",
          "text": [
            "Found 2922 files belonging to 2 classes.\n",
            "Using 2338 files for training.\n"
          ]
        }
      ]
    },
    {
      "cell_type": "code",
      "source": [
        "val_ds = image_dataset_from_directory('/content/Untitled Folder', \n",
        "                                      seed = 7, \n",
        "                                      image_size=(img_height, img_width), \n",
        "                                      validation_split=0.2, \n",
        "                                      subset='validation')"
      ],
      "metadata": {
        "colab": {
          "base_uri": "https://localhost:8080/"
        },
        "id": "-Ld5QwD-TVkQ",
        "outputId": "6641465c-fbe3-463c-abce-12b8063fab48"
      },
      "execution_count": null,
      "outputs": [
        {
          "output_type": "stream",
          "name": "stdout",
          "text": [
            "Found 2922 files belonging to 2 classes.\n",
            "Using 584 files for validation.\n"
          ]
        }
      ]
    },
    {
      "cell_type": "code",
      "source": [
        "from tensorflow import keras\n",
        "from tensorflow.keras import layers"
      ],
      "metadata": {
        "id": "RvGziUbLQbu2"
      },
      "execution_count": null,
      "outputs": []
    },
    {
      "cell_type": "code",
      "source": [
        "simple_cnn = tf.keras.models.load_model('/content/model.h5')"
      ],
      "metadata": {
        "id": "kuuVFhEttYH-"
      },
      "execution_count": null,
      "outputs": []
    },
    {
      "cell_type": "code",
      "source": [
        "# def simpe_cnn():\n",
        "#   input = keras.Input(shape=(256, 256, 3))\n",
        "#   x = layers.Rescaling(1.0/255)(input)    \n",
        "#   x = layers.Conv2D(32,\n",
        "#                     kernel_size=(3, 3),\n",
        "#                     activation=\"relu\",\n",
        "#                     padding='same')(input)\n",
        "#   x = layers.MaxPooling2D(pool_size=(2, 2))(x)\n",
        "#   x = layers.Conv2D(32,\n",
        "#                     kernel_size=(3, 3),\n",
        "#                     activation=\"relu\",\n",
        "#                     padding='same')(x)\n",
        "#   x = layers.MaxPooling2D(pool_size=(2, 2))(x)\n",
        "#   x = layers.Conv2D(64,\n",
        "#                     kernel_size=(3, 3),\n",
        "#                     activation=\"relu\",\n",
        "#                     padding='same')(x)\n",
        "#   x = layers.MaxPooling2D(pool_size=(2, 2))(x)\n",
        "#   x = layers.Conv2D(128,\n",
        "#                     kernel_size=(3, 3),\n",
        "#                     activation=\"relu\",\n",
        "#                     padding='same')(x)\n",
        "#   x = layers.MaxPooling2D(pool_size=(2, 2))(x)\n",
        "#   x = layers.Conv2D(256,\n",
        "#                     kernel_size=(3, 3),\n",
        "#                     activation=\"relu\",\n",
        "#                     padding='same')(x)\n",
        "#   x = layers.MaxPooling2D(pool_size=(2, 2))(x)\n",
        "#   x = layers.Flatten()(x)\n",
        "#   x = layers.Dense(256, activation='relu')(x)\n",
        "#   output = layers.Dense(1, activation=\"sigmoid\")(x)\n",
        "#   return keras.Model(input, output)"
      ],
      "metadata": {
        "id": "3VyM48kb3dw8"
      },
      "execution_count": null,
      "outputs": []
    },
    {
      "cell_type": "code",
      "source": [
        "batch_size = 128\n",
        "epochs = 10\n",
        "\n",
        "cnn_model = simpe_cnn()\n",
        "\n",
        "cnn_model.compile(loss=\"binary_crossentropy\", optimizer=\"adam\", metrics=[\"accuracy\"])\n",
        "cnn_model.fit(\n",
        "    train_ds,\n",
        "    epochs=epochs,\n",
        "    batch_size=batch_size,\n",
        "    validation_data=val_ds,\n",
        ")"
      ],
      "metadata": {
        "colab": {
          "base_uri": "https://localhost:8080/"
        },
        "id": "ERc0iUgp8Q7u",
        "outputId": "89e92db2-a07d-4d82-c072-589e4d1732b2"
      },
      "execution_count": null,
      "outputs": [
        {
          "output_type": "stream",
          "name": "stdout",
          "text": [
            "Epoch 1/10\n",
            "74/74 [==============================] - 55s 654ms/step - loss: 1.7090 - accuracy: 0.7352 - val_loss: 0.4401 - val_accuracy: 0.7808\n",
            "Epoch 2/10\n",
            "74/74 [==============================] - 46s 586ms/step - loss: 0.3468 - accuracy: 0.8516 - val_loss: 0.5095 - val_accuracy: 0.8750\n",
            "Epoch 3/10\n",
            "74/74 [==============================] - 51s 645ms/step - loss: 0.2714 - accuracy: 0.8935 - val_loss: 0.4236 - val_accuracy: 0.8870\n",
            "Epoch 4/10\n",
            "74/74 [==============================] - 46s 586ms/step - loss: 0.1954 - accuracy: 0.9166 - val_loss: 0.4009 - val_accuracy: 0.8904\n",
            "Epoch 5/10\n",
            "74/74 [==============================] - 49s 623ms/step - loss: 0.2068 - accuracy: 0.9217 - val_loss: 0.1879 - val_accuracy: 0.9110\n",
            "Epoch 6/10\n",
            "74/74 [==============================] - 46s 584ms/step - loss: 0.1399 - accuracy: 0.9397 - val_loss: 0.1790 - val_accuracy: 0.9195\n",
            "Epoch 7/10\n",
            "74/74 [==============================] - 46s 579ms/step - loss: 0.1379 - accuracy: 0.9474 - val_loss: 0.2211 - val_accuracy: 0.8938\n",
            "Epoch 8/10\n",
            "74/74 [==============================] - 48s 593ms/step - loss: 0.1333 - accuracy: 0.9440 - val_loss: 0.1503 - val_accuracy: 0.9384\n",
            "Epoch 9/10\n",
            "74/74 [==============================] - 48s 586ms/step - loss: 0.1218 - accuracy: 0.9534 - val_loss: 0.1409 - val_accuracy: 0.9418\n",
            "Epoch 10/10\n",
            "74/74 [==============================] - 52s 662ms/step - loss: 0.1128 - accuracy: 0.9568 - val_loss: 0.1313 - val_accuracy: 0.9572\n"
          ]
        },
        {
          "output_type": "execute_result",
          "data": {
            "text/plain": [
              "<keras.callbacks.History at 0x7f37b01416d0>"
            ]
          },
          "metadata": {},
          "execution_count": 31
        }
      ]
    },
    {
      "cell_type": "code",
      "source": [
        "cnn_model.save(\"model.h5\")"
      ],
      "metadata": {
        "id": "8iA2X_DCtml-"
      },
      "execution_count": null,
      "outputs": []
    },
    {
      "cell_type": "code",
      "source": [
        "from tensorflow.keras.preprocessing.image import load_img\n",
        "from glob import glob\n",
        "import pandas as pd\n",
        "\n",
        "img_size = (256, 256)\n",
        "d = {0:'cataract', 1:'normal'}\n",
        "\n",
        "def predict_images(dir='test_images', res_file='result.csv'):\n",
        "\n",
        "    files = glob(dir+'/*')\n",
        "    d_test={}\n",
        "    for file in files:\n",
        "        image = load_img(file, target_size=img_size)\n",
        "        image = np.array(image)\n",
        "        pred = model.predict(np.expand_dims(image, axis=0))[0][0]\n",
        "        pred = int(np.round(pred))\n",
        "        d_test[file.split('/')[3]]=d[pred]\n",
        "    \n",
        "    d_csv = {'name':list(d_test.keys()), 'label': list(d_test.values())}\n",
        "    df = pd.DataFrame.from_dict(d_csv)\n",
        "    print(df)\n",
        "    return df.to_csv(res_file, index=False)"
      ],
      "metadata": {
        "id": "3iShhPrruRjo"
      },
      "execution_count": null,
      "outputs": []
    },
    {
      "cell_type": "code",
      "source": [
        "!gdown 16epIFeSWcYfcCyFCD6s2ZJrVQC4mKMlx\n",
        "!unzip test_images.zip"
      ],
      "metadata": {
        "colab": {
          "base_uri": "https://localhost:8080/"
        },
        "id": "ekg6OPO48XcM",
        "outputId": "324ef861-c1f5-4975-e194-bc1a3f261014"
      },
      "execution_count": null,
      "outputs": [
        {
          "output_type": "stream",
          "name": "stdout",
          "text": [
            "Access denied with the following error:\n",
            "\n",
            " \tToo many users have viewed or downloaded this file recently. Please\n",
            "\ttry accessing the file again later. If the file you are trying to\n",
            "\taccess is particularly large or is shared with many people, it may\n",
            "\ttake up to 24 hours to be able to view or download the file. If you\n",
            "\tstill can't access a file after 24 hours, contact your domain\n",
            "\tadministrator. \n",
            "\n",
            "You may still be able to access the file from the browser:\n",
            "\n",
            "\t https://drive.google.com/uc?id=16epIFeSWcYfcCyFCD6s2ZJrVQC4mKMlx \n",
            "\n",
            "unzip:  cannot find or open test_images.zip, test_images.zip.zip or test_images.zip.ZIP.\n"
          ]
        }
      ]
    },
    {
      "cell_type": "code",
      "source": [
        "predict_images(dir='/content/test_images', res_file='result.csv')"
      ],
      "metadata": {
        "colab": {
          "base_uri": "https://localhost:8080/"
        },
        "id": "f99dlPY2w5Cu",
        "outputId": "15d4327d-77c2-4c16-a1aa-a339057ed5fb"
      },
      "execution_count": null,
      "outputs": [
        {
          "output_type": "stream",
          "name": "stdout",
          "text": [
            "1/1 [==============================] - 0s 20ms/step\n",
            "1/1 [==============================] - 0s 19ms/step\n",
            "1/1 [==============================] - 0s 23ms/step\n",
            "1/1 [==============================] - 0s 19ms/step\n",
            "    name     label\n",
            "0  2.jpg    normal\n",
            "1  3.jpg    normal\n",
            "2  1.jpg  cataract\n",
            "3  4.jpg  cataract\n"
          ]
        }
      ]
    },
    {
      "cell_type": "code",
      "source": [
        "import numpy as np\n",
        "trainableParams = np.sum([np.prod(v.get_shape()) for v in model.trainable_weights])\n",
        "nonTrainableParams = np.sum([np.prod(v.get_shape()) for v in model.non_trainable_weights])\n",
        "totalParams = trainableParams + nonTrainableParams\n",
        "\n",
        "print(trainableParams)\n",
        "print(nonTrainableParams)\n",
        "print(totalParams)"
      ],
      "metadata": {
        "colab": {
          "base_uri": "https://localhost:8080/"
        },
        "id": "tk89Yge7kOvu",
        "outputId": "75f65008-bbb0-4ec4-ba59-247090c2e3bd"
      },
      "execution_count": null,
      "outputs": [
        {
          "output_type": "stream",
          "name": "stdout",
          "text": [
            "8412449\n",
            "0.0\n",
            "8412449.0\n"
          ]
        }
      ]
    },
    {
      "cell_type": "code",
      "source": [
        "import pandas as pd\n",
        "# result = pd.read_csv('/content/result.csv')\n",
        "result = pd.DataFrame({'name': ['1.jpg', '2.jpeg', '3.jpeg', '4.jpg'], 'label': ['normal', 'cataract', 'normal', 'cataract']})\n",
        "# ref = pd.read_csv('/content/ref.csv')\n",
        "ref = pd.DataFrame({'name': ['1.jpg', '2.jpeg', '3.jpeg', '4.jpg'], 'true_label': ['cataract', 'normal', 'normal', 'cataract']})\n",
        "merg = pd.merge(ref, result, on='name', how='left')\n",
        "\n",
        "from sklearn.metrics import classification_report\n",
        "print(classification_report(y_true=merg.true_label, y_pred=merg.label))"
      ],
      "metadata": {
        "id": "NyEQkEVIt4Yg"
      },
      "execution_count": null,
      "outputs": []
    }
  ]
}